{
 "cells": [
  {
   "cell_type": "code",
   "execution_count": 1,
   "id": "49432909-c936-4975-a241-d29ed0c3f6fe",
   "metadata": {},
   "outputs": [],
   "source": [
    "import pandas as pd\n",
    "import numpy as np\n",
    "import matplotlib.pyplot as plt"
   ]
  },
  {
   "cell_type": "code",
   "execution_count": 2,
   "id": "0c98621d-42cf-417c-9f8c-3fb59601461e",
   "metadata": {},
   "outputs": [],
   "source": [
    "data = pd.read_csv('sales.csv')"
   ]
  },
  {
   "cell_type": "code",
   "execution_count": 3,
   "id": "24cc5756-7d2e-4ded-af74-34ab39894628",
   "metadata": {},
   "outputs": [
    {
     "data": {
      "text/html": [
       "<div>\n",
       "<style scoped>\n",
       "    .dataframe tbody tr th:only-of-type {\n",
       "        vertical-align: middle;\n",
       "    }\n",
       "\n",
       "    .dataframe tbody tr th {\n",
       "        vertical-align: top;\n",
       "    }\n",
       "\n",
       "    .dataframe thead th {\n",
       "        text-align: right;\n",
       "    }\n",
       "</style>\n",
       "<table border=\"1\" class=\"dataframe\">\n",
       "  <thead>\n",
       "    <tr style=\"text-align: right;\">\n",
       "      <th></th>\n",
       "      <th>OrderNumber</th>\n",
       "      <th>OrderDate</th>\n",
       "      <th>Customer Name Index</th>\n",
       "      <th>Channel</th>\n",
       "      <th>Currency Code</th>\n",
       "      <th>Warehouse Code</th>\n",
       "      <th>Delivery Region Index</th>\n",
       "      <th>Product Description Index</th>\n",
       "      <th>Order Quantity</th>\n",
       "      <th>Unit Price</th>\n",
       "      <th>Line Total</th>\n",
       "      <th>Total Unit Cost</th>\n",
       "    </tr>\n",
       "  </thead>\n",
       "  <tbody>\n",
       "    <tr>\n",
       "      <th>0</th>\n",
       "      <td>SO - 000225</td>\n",
       "      <td>1/1/2015</td>\n",
       "      <td>126</td>\n",
       "      <td>Wholesale</td>\n",
       "      <td>GBP</td>\n",
       "      <td>AXW291</td>\n",
       "      <td>82</td>\n",
       "      <td>27</td>\n",
       "      <td>6</td>\n",
       "      <td>2,499.10</td>\n",
       "      <td>14,994.60</td>\n",
       "      <td>1,824.34</td>\n",
       "    </tr>\n",
       "    <tr>\n",
       "      <th>1</th>\n",
       "      <td>SO - 0003378</td>\n",
       "      <td>1/1/2015</td>\n",
       "      <td>96</td>\n",
       "      <td>Distributor</td>\n",
       "      <td>GBP</td>\n",
       "      <td>AXW291</td>\n",
       "      <td>32</td>\n",
       "      <td>20</td>\n",
       "      <td>11</td>\n",
       "      <td>2,351.70</td>\n",
       "      <td>25,868.70</td>\n",
       "      <td>1,269.92</td>\n",
       "    </tr>\n",
       "    <tr>\n",
       "      <th>2</th>\n",
       "      <td>SO - 0005126</td>\n",
       "      <td>1/1/2015</td>\n",
       "      <td>8</td>\n",
       "      <td>Wholesale</td>\n",
       "      <td>GBP</td>\n",
       "      <td>AXW291</td>\n",
       "      <td>7</td>\n",
       "      <td>26</td>\n",
       "      <td>6</td>\n",
       "      <td>978.20</td>\n",
       "      <td>5,869.20</td>\n",
       "      <td>684.74</td>\n",
       "    </tr>\n",
       "    <tr>\n",
       "      <th>3</th>\n",
       "      <td>SO - 0005614</td>\n",
       "      <td>1/1/2015</td>\n",
       "      <td>42</td>\n",
       "      <td>Export</td>\n",
       "      <td>GBP</td>\n",
       "      <td>AXW291</td>\n",
       "      <td>5</td>\n",
       "      <td>7</td>\n",
       "      <td>7</td>\n",
       "      <td>2,338.30</td>\n",
       "      <td>16,368.10</td>\n",
       "      <td>1,028.85</td>\n",
       "    </tr>\n",
       "    <tr>\n",
       "      <th>4</th>\n",
       "      <td>SO - 0005781</td>\n",
       "      <td>1/1/2015</td>\n",
       "      <td>73</td>\n",
       "      <td>Wholesale</td>\n",
       "      <td>GBP</td>\n",
       "      <td>AXW291</td>\n",
       "      <td>20</td>\n",
       "      <td>8</td>\n",
       "      <td>8</td>\n",
       "      <td>2,291.40</td>\n",
       "      <td>18,331.20</td>\n",
       "      <td>1,260.27</td>\n",
       "    </tr>\n",
       "    <tr>\n",
       "      <th>5</th>\n",
       "      <td>SO - 0010394</td>\n",
       "      <td>1/1/2015</td>\n",
       "      <td>138</td>\n",
       "      <td>Export</td>\n",
       "      <td>GBP</td>\n",
       "      <td>NXH382</td>\n",
       "      <td>61</td>\n",
       "      <td>23</td>\n",
       "      <td>11</td>\n",
       "      <td>5,219.30</td>\n",
       "      <td>57,412.30</td>\n",
       "      <td>4,332.02</td>\n",
       "    </tr>\n",
       "    <tr>\n",
       "      <th>6</th>\n",
       "      <td>SO - 0008865</td>\n",
       "      <td>1/1/2015</td>\n",
       "      <td>53</td>\n",
       "      <td>Wholesale</td>\n",
       "      <td>GBP</td>\n",
       "      <td>GUT930</td>\n",
       "      <td>47</td>\n",
       "      <td>1</td>\n",
       "      <td>7</td>\n",
       "      <td>2,874.30</td>\n",
       "      <td>20,120.10</td>\n",
       "      <td>1,667.09</td>\n",
       "    </tr>\n",
       "    <tr>\n",
       "      <th>7</th>\n",
       "      <td>SO - 0009909</td>\n",
       "      <td>1/1/2015</td>\n",
       "      <td>45</td>\n",
       "      <td>Wholesale</td>\n",
       "      <td>GBP</td>\n",
       "      <td>AXW291</td>\n",
       "      <td>15</td>\n",
       "      <td>25</td>\n",
       "      <td>10</td>\n",
       "      <td>1,045.20</td>\n",
       "      <td>10,452.00</td>\n",
       "      <td>679.38</td>\n",
       "    </tr>\n",
       "    <tr>\n",
       "      <th>8</th>\n",
       "      <td>SO - 0002911</td>\n",
       "      <td>1/2/2015</td>\n",
       "      <td>37</td>\n",
       "      <td>Wholesale</td>\n",
       "      <td>GBP</td>\n",
       "      <td>AXW291</td>\n",
       "      <td>6</td>\n",
       "      <td>15</td>\n",
       "      <td>6</td>\n",
       "      <td>911.20</td>\n",
       "      <td>5,467.20</td>\n",
       "      <td>665.18</td>\n",
       "    </tr>\n",
       "    <tr>\n",
       "      <th>9</th>\n",
       "      <td>SO - 0003527</td>\n",
       "      <td>1/2/2015</td>\n",
       "      <td>8</td>\n",
       "      <td>Wholesale</td>\n",
       "      <td>GBP</td>\n",
       "      <td>AXW291</td>\n",
       "      <td>40</td>\n",
       "      <td>18</td>\n",
       "      <td>11</td>\n",
       "      <td>1,701.80</td>\n",
       "      <td>18,719.80</td>\n",
       "      <td>1,429.51</td>\n",
       "    </tr>\n",
       "  </tbody>\n",
       "</table>\n",
       "</div>"
      ],
      "text/plain": [
       "    OrderNumber OrderDate  Customer Name Index      Channel Currency Code  \\\n",
       "0   SO - 000225  1/1/2015                  126    Wholesale           GBP   \n",
       "1  SO - 0003378  1/1/2015                   96  Distributor           GBP   \n",
       "2  SO - 0005126  1/1/2015                    8    Wholesale           GBP   \n",
       "3  SO - 0005614  1/1/2015                   42       Export           GBP   \n",
       "4  SO - 0005781  1/1/2015                   73    Wholesale           GBP   \n",
       "5  SO - 0010394  1/1/2015                  138       Export           GBP   \n",
       "6  SO - 0008865  1/1/2015                   53    Wholesale           GBP   \n",
       "7  SO - 0009909  1/1/2015                   45    Wholesale           GBP   \n",
       "8  SO - 0002911  1/2/2015                   37    Wholesale           GBP   \n",
       "9  SO - 0003527  1/2/2015                    8    Wholesale           GBP   \n",
       "\n",
       "  Warehouse Code  Delivery Region Index  Product Description Index  \\\n",
       "0         AXW291                     82                         27   \n",
       "1         AXW291                     32                         20   \n",
       "2         AXW291                      7                         26   \n",
       "3         AXW291                      5                          7   \n",
       "4         AXW291                     20                          8   \n",
       "5         NXH382                     61                         23   \n",
       "6         GUT930                     47                          1   \n",
       "7         AXW291                     15                         25   \n",
       "8         AXW291                      6                         15   \n",
       "9         AXW291                     40                         18   \n",
       "\n",
       "   Order Quantity Unit Price Line Total Total Unit Cost  \n",
       "0               6   2,499.10  14,994.60        1,824.34  \n",
       "1              11   2,351.70  25,868.70        1,269.92  \n",
       "2               6     978.20   5,869.20          684.74  \n",
       "3               7   2,338.30  16,368.10        1,028.85  \n",
       "4               8   2,291.40  18,331.20        1,260.27  \n",
       "5              11   5,219.30  57,412.30        4,332.02  \n",
       "6               7   2,874.30  20,120.10        1,667.09  \n",
       "7              10   1,045.20  10,452.00          679.38  \n",
       "8               6     911.20   5,467.20          665.18  \n",
       "9              11   1,701.80  18,719.80        1,429.51  "
      ]
     },
     "execution_count": 3,
     "metadata": {},
     "output_type": "execute_result"
    }
   ],
   "source": [
    "data.head(10)"
   ]
  },
  {
   "cell_type": "code",
   "execution_count": 4,
   "id": "982362d4-31fb-4a52-b257-3eb0bcb66f1a",
   "metadata": {},
   "outputs": [
    {
     "data": {
      "text/plain": [
       "Wholesale      5766\n",
       "Distributor    3328\n",
       "Export         1590\n",
       "Name: Channel, dtype: int64"
      ]
     },
     "execution_count": 4,
     "metadata": {},
     "output_type": "execute_result"
    }
   ],
   "source": [
    "data['Channel'].value_counts()"
   ]
  },
  {
   "cell_type": "code",
   "execution_count": 6,
   "id": "82bbdc96-2e05-4dbe-90b9-5abb437453b2",
   "metadata": {},
   "outputs": [
    {
     "name": "stdout",
     "output_type": "stream",
     "text": [
      "<class 'pandas.core.frame.DataFrame'>\n",
      "RangeIndex: 10684 entries, 0 to 10683\n",
      "Data columns (total 12 columns):\n",
      " #   Column                     Non-Null Count  Dtype \n",
      "---  ------                     --------------  ----- \n",
      " 0   OrderNumber                10684 non-null  object\n",
      " 1   OrderDate                  10684 non-null  object\n",
      " 2   Customer Name Index        10684 non-null  int64 \n",
      " 3   Channel                    10684 non-null  object\n",
      " 4   Currency Code              10684 non-null  object\n",
      " 5   Warehouse Code             10684 non-null  object\n",
      " 6   Delivery Region Index      10684 non-null  int64 \n",
      " 7   Product Description Index  10684 non-null  int64 \n",
      " 8   Order Quantity             10684 non-null  int64 \n",
      " 9   Unit Price                 10684 non-null  object\n",
      " 10  Line Total                 10684 non-null  object\n",
      " 11  Total Unit Cost            10684 non-null  object\n",
      "dtypes: int64(4), object(8)\n",
      "memory usage: 1001.8+ KB\n"
     ]
    }
   ],
   "source": [
    "data.info()"
   ]
  },
  {
   "cell_type": "code",
   "execution_count": 7,
   "id": "aeb65e0d-6deb-495c-93c1-30e3a006b605",
   "metadata": {},
   "outputs": [
    {
     "data": {
      "text/plain": [
       "(10684, 12)"
      ]
     },
     "execution_count": 7,
     "metadata": {},
     "output_type": "execute_result"
    }
   ],
   "source": [
    "data.shape"
   ]
  },
  {
   "cell_type": "code",
   "execution_count": 9,
   "id": "189654b6-f699-4ddd-ab5a-2ad7411a14c7",
   "metadata": {},
   "outputs": [
    {
     "data": {
      "text/plain": [
       "Index(['OrderNumber', 'OrderDate', 'Customer Name Index', 'Channel',\n",
       "       'Currency Code', 'Warehouse Code', 'Delivery Region Index',\n",
       "       'Product Description Index', 'Order Quantity', 'Unit Price',\n",
       "       'Line Total', 'Total Unit Cost'],\n",
       "      dtype='object')"
      ]
     },
     "execution_count": 9,
     "metadata": {},
     "output_type": "execute_result"
    }
   ],
   "source": [
    "data.columns"
   ]
  },
  {
   "cell_type": "code",
   "execution_count": 14,
   "id": "1b008079-8152-458f-a808-b96326091817",
   "metadata": {},
   "outputs": [
    {
     "data": {
      "text/plain": [
       "128208"
      ]
     },
     "execution_count": 14,
     "metadata": {},
     "output_type": "execute_result"
    }
   ],
   "source": [
    "data.size"
   ]
  },
  {
   "cell_type": "code",
   "execution_count": 15,
   "id": "d286ee28-08e2-4a39-8639-81a565ee5913",
   "metadata": {},
   "outputs": [
    {
     "data": {
      "text/html": [
       "<div>\n",
       "<style scoped>\n",
       "    .dataframe tbody tr th:only-of-type {\n",
       "        vertical-align: middle;\n",
       "    }\n",
       "\n",
       "    .dataframe tbody tr th {\n",
       "        vertical-align: top;\n",
       "    }\n",
       "\n",
       "    .dataframe thead th {\n",
       "        text-align: right;\n",
       "    }\n",
       "</style>\n",
       "<table border=\"1\" class=\"dataframe\">\n",
       "  <thead>\n",
       "    <tr style=\"text-align: right;\">\n",
       "      <th></th>\n",
       "      <th>count</th>\n",
       "      <th>mean</th>\n",
       "      <th>std</th>\n",
       "      <th>min</th>\n",
       "      <th>25%</th>\n",
       "      <th>50%</th>\n",
       "      <th>75%</th>\n",
       "      <th>max</th>\n",
       "    </tr>\n",
       "  </thead>\n",
       "  <tbody>\n",
       "    <tr>\n",
       "      <th>Customer Name Index</th>\n",
       "      <td>10684.0</td>\n",
       "      <td>87.480064</td>\n",
       "      <td>49.886891</td>\n",
       "      <td>1.0</td>\n",
       "      <td>45.0</td>\n",
       "      <td>87.0</td>\n",
       "      <td>130.0</td>\n",
       "      <td>175.0</td>\n",
       "    </tr>\n",
       "    <tr>\n",
       "      <th>Delivery Region Index</th>\n",
       "      <td>10684.0</td>\n",
       "      <td>42.721172</td>\n",
       "      <td>24.347381</td>\n",
       "      <td>1.0</td>\n",
       "      <td>22.0</td>\n",
       "      <td>42.0</td>\n",
       "      <td>64.0</td>\n",
       "      <td>85.0</td>\n",
       "    </tr>\n",
       "    <tr>\n",
       "      <th>Product Description Index</th>\n",
       "      <td>10684.0</td>\n",
       "      <td>14.913141</td>\n",
       "      <td>8.787375</td>\n",
       "      <td>1.0</td>\n",
       "      <td>6.0</td>\n",
       "      <td>15.0</td>\n",
       "      <td>24.0</td>\n",
       "      <td>30.0</td>\n",
       "    </tr>\n",
       "    <tr>\n",
       "      <th>Order Quantity</th>\n",
       "      <td>10684.0</td>\n",
       "      <td>8.441689</td>\n",
       "      <td>2.276305</td>\n",
       "      <td>5.0</td>\n",
       "      <td>6.0</td>\n",
       "      <td>8.0</td>\n",
       "      <td>10.0</td>\n",
       "      <td>12.0</td>\n",
       "    </tr>\n",
       "  </tbody>\n",
       "</table>\n",
       "</div>"
      ],
      "text/plain": [
       "                             count       mean        std  min   25%   50%  \\\n",
       "Customer Name Index        10684.0  87.480064  49.886891  1.0  45.0  87.0   \n",
       "Delivery Region Index      10684.0  42.721172  24.347381  1.0  22.0  42.0   \n",
       "Product Description Index  10684.0  14.913141   8.787375  1.0   6.0  15.0   \n",
       "Order Quantity             10684.0   8.441689   2.276305  5.0   6.0   8.0   \n",
       "\n",
       "                             75%    max  \n",
       "Customer Name Index        130.0  175.0  \n",
       "Delivery Region Index       64.0   85.0  \n",
       "Product Description Index   24.0   30.0  \n",
       "Order Quantity              10.0   12.0  "
      ]
     },
     "execution_count": 15,
     "metadata": {},
     "output_type": "execute_result"
    }
   ],
   "source": [
    "data.describe().T"
   ]
  },
  {
   "cell_type": "code",
   "execution_count": null,
   "id": "26420c97-0ac4-420e-a1c9-ccf8de7c333d",
   "metadata": {},
   "outputs": [],
   "source": []
  }
 ],
 "metadata": {
  "kernelspec": {
   "display_name": "Python 3 (ipykernel)",
   "language": "python",
   "name": "python3"
  },
  "language_info": {
   "codemirror_mode": {
    "name": "ipython",
    "version": 3
   },
   "file_extension": ".py",
   "mimetype": "text/x-python",
   "name": "python",
   "nbconvert_exporter": "python",
   "pygments_lexer": "ipython3",
   "version": "3.10.7"
  }
 },
 "nbformat": 4,
 "nbformat_minor": 5
}
